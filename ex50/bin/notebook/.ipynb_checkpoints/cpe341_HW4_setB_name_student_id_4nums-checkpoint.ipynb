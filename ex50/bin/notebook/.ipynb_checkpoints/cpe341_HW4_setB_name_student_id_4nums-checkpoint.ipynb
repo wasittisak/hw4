{
 "cells": [
  {
   "cell_type": "markdown",
   "metadata": {},
   "source": [
    "# CPE-341, Quiz 2/2015 \n",
    "# Question Set B\n",
    "\n",
    "- Iteration Design Pattern : List, Dictionary\n",
    "- Using Class Coin in a List"
   ]
  },
  {
   "cell_type": "code",
   "execution_count": 1,
   "metadata": {
    "collapsed": false
   },
   "outputs": [
    {
     "ename": "ImportError",
     "evalue": "No module named 'load_style'",
     "output_type": "error",
     "traceback": [
      "\u001b[0;31m---------------------------------------------------------------------------\u001b[0m",
      "\u001b[0;31mImportError\u001b[0m                               Traceback (most recent call last)",
      "\u001b[0;32m<ipython-input-1-78e4da72be5d>\u001b[0m in \u001b[0;36m<module>\u001b[0;34m()\u001b[0m\n\u001b[0;32m----> 1\u001b[0;31m \u001b[0mget_ipython\u001b[0m\u001b[0;34m(\u001b[0m\u001b[0;34m)\u001b[0m\u001b[0;34m.\u001b[0m\u001b[0mmagic\u001b[0m\u001b[0;34m(\u001b[0m\u001b[0;34m'reload_ext load_style'\u001b[0m\u001b[0;34m)\u001b[0m\u001b[0;34m\u001b[0m\u001b[0m\n\u001b[0m\u001b[1;32m      2\u001b[0m \u001b[0mget_ipython\u001b[0m\u001b[0;34m(\u001b[0m\u001b[0;34m)\u001b[0m\u001b[0;34m.\u001b[0m\u001b[0mmagic\u001b[0m\u001b[0;34m(\u001b[0m\u001b[0;34m'load_style talk.css'\u001b[0m\u001b[0;34m)\u001b[0m\u001b[0;34m\u001b[0m\u001b[0m\n",
      "\u001b[0;32m/home/ubuntu/miniconda3/envs/py34/lib/python3.4/site-packages/IPython/core/interactiveshell.py\u001b[0m in \u001b[0;36mmagic\u001b[0;34m(self, arg_s)\u001b[0m\n\u001b[1;32m   2156\u001b[0m         \u001b[0mmagic_name\u001b[0m\u001b[0;34m,\u001b[0m \u001b[0m_\u001b[0m\u001b[0;34m,\u001b[0m \u001b[0mmagic_arg_s\u001b[0m \u001b[0;34m=\u001b[0m \u001b[0marg_s\u001b[0m\u001b[0;34m.\u001b[0m\u001b[0mpartition\u001b[0m\u001b[0;34m(\u001b[0m\u001b[0;34m' '\u001b[0m\u001b[0;34m)\u001b[0m\u001b[0;34m\u001b[0m\u001b[0m\n\u001b[1;32m   2157\u001b[0m         \u001b[0mmagic_name\u001b[0m \u001b[0;34m=\u001b[0m \u001b[0mmagic_name\u001b[0m\u001b[0;34m.\u001b[0m\u001b[0mlstrip\u001b[0m\u001b[0;34m(\u001b[0m\u001b[0mprefilter\u001b[0m\u001b[0;34m.\u001b[0m\u001b[0mESC_MAGIC\u001b[0m\u001b[0;34m)\u001b[0m\u001b[0;34m\u001b[0m\u001b[0m\n\u001b[0;32m-> 2158\u001b[0;31m         \u001b[0;32mreturn\u001b[0m \u001b[0mself\u001b[0m\u001b[0;34m.\u001b[0m\u001b[0mrun_line_magic\u001b[0m\u001b[0;34m(\u001b[0m\u001b[0mmagic_name\u001b[0m\u001b[0;34m,\u001b[0m \u001b[0mmagic_arg_s\u001b[0m\u001b[0;34m)\u001b[0m\u001b[0;34m\u001b[0m\u001b[0m\n\u001b[0m\u001b[1;32m   2159\u001b[0m \u001b[0;34m\u001b[0m\u001b[0m\n\u001b[1;32m   2160\u001b[0m     \u001b[0;31m#-------------------------------------------------------------------------\u001b[0m\u001b[0;34m\u001b[0m\u001b[0;34m\u001b[0m\u001b[0m\n",
      "\u001b[0;32m/home/ubuntu/miniconda3/envs/py34/lib/python3.4/site-packages/IPython/core/interactiveshell.py\u001b[0m in \u001b[0;36mrun_line_magic\u001b[0;34m(self, magic_name, line)\u001b[0m\n\u001b[1;32m   2077\u001b[0m                 \u001b[0mkwargs\u001b[0m\u001b[0;34m[\u001b[0m\u001b[0;34m'local_ns'\u001b[0m\u001b[0;34m]\u001b[0m \u001b[0;34m=\u001b[0m \u001b[0msys\u001b[0m\u001b[0;34m.\u001b[0m\u001b[0m_getframe\u001b[0m\u001b[0;34m(\u001b[0m\u001b[0mstack_depth\u001b[0m\u001b[0;34m)\u001b[0m\u001b[0;34m.\u001b[0m\u001b[0mf_locals\u001b[0m\u001b[0;34m\u001b[0m\u001b[0m\n\u001b[1;32m   2078\u001b[0m             \u001b[0;32mwith\u001b[0m \u001b[0mself\u001b[0m\u001b[0;34m.\u001b[0m\u001b[0mbuiltin_trap\u001b[0m\u001b[0;34m:\u001b[0m\u001b[0;34m\u001b[0m\u001b[0m\n\u001b[0;32m-> 2079\u001b[0;31m                 \u001b[0mresult\u001b[0m \u001b[0;34m=\u001b[0m \u001b[0mfn\u001b[0m\u001b[0;34m(\u001b[0m\u001b[0;34m*\u001b[0m\u001b[0margs\u001b[0m\u001b[0;34m,\u001b[0m\u001b[0;34m**\u001b[0m\u001b[0mkwargs\u001b[0m\u001b[0;34m)\u001b[0m\u001b[0;34m\u001b[0m\u001b[0m\n\u001b[0m\u001b[1;32m   2080\u001b[0m             \u001b[0;32mreturn\u001b[0m \u001b[0mresult\u001b[0m\u001b[0;34m\u001b[0m\u001b[0m\n\u001b[1;32m   2081\u001b[0m \u001b[0;34m\u001b[0m\u001b[0m\n",
      "\u001b[0;32m<decorator-gen-64>\u001b[0m in \u001b[0;36mreload_ext\u001b[0;34m(self, module_str)\u001b[0m\n",
      "\u001b[0;32m/home/ubuntu/miniconda3/envs/py34/lib/python3.4/site-packages/IPython/core/magic.py\u001b[0m in \u001b[0;36m<lambda>\u001b[0;34m(f, *a, **k)\u001b[0m\n\u001b[1;32m    186\u001b[0m     \u001b[0;31m# but it's overkill for just that one bit of state.\u001b[0m\u001b[0;34m\u001b[0m\u001b[0;34m\u001b[0m\u001b[0m\n\u001b[1;32m    187\u001b[0m     \u001b[0;32mdef\u001b[0m \u001b[0mmagic_deco\u001b[0m\u001b[0;34m(\u001b[0m\u001b[0marg\u001b[0m\u001b[0;34m)\u001b[0m\u001b[0;34m:\u001b[0m\u001b[0;34m\u001b[0m\u001b[0m\n\u001b[0;32m--> 188\u001b[0;31m         \u001b[0mcall\u001b[0m \u001b[0;34m=\u001b[0m \u001b[0;32mlambda\u001b[0m \u001b[0mf\u001b[0m\u001b[0;34m,\u001b[0m \u001b[0;34m*\u001b[0m\u001b[0ma\u001b[0m\u001b[0;34m,\u001b[0m \u001b[0;34m**\u001b[0m\u001b[0mk\u001b[0m\u001b[0;34m:\u001b[0m \u001b[0mf\u001b[0m\u001b[0;34m(\u001b[0m\u001b[0;34m*\u001b[0m\u001b[0ma\u001b[0m\u001b[0;34m,\u001b[0m \u001b[0;34m**\u001b[0m\u001b[0mk\u001b[0m\u001b[0;34m)\u001b[0m\u001b[0;34m\u001b[0m\u001b[0m\n\u001b[0m\u001b[1;32m    189\u001b[0m \u001b[0;34m\u001b[0m\u001b[0m\n\u001b[1;32m    190\u001b[0m         \u001b[0;32mif\u001b[0m \u001b[0mcallable\u001b[0m\u001b[0;34m(\u001b[0m\u001b[0marg\u001b[0m\u001b[0;34m)\u001b[0m\u001b[0;34m:\u001b[0m\u001b[0;34m\u001b[0m\u001b[0m\n",
      "\u001b[0;32m/home/ubuntu/miniconda3/envs/py34/lib/python3.4/site-packages/IPython/core/magics/extension.py\u001b[0m in \u001b[0;36mreload_ext\u001b[0;34m(self, module_str)\u001b[0m\n\u001b[1;32m     65\u001b[0m         \u001b[0;32mif\u001b[0m \u001b[0;32mnot\u001b[0m \u001b[0mmodule_str\u001b[0m\u001b[0;34m:\u001b[0m\u001b[0;34m\u001b[0m\u001b[0m\n\u001b[1;32m     66\u001b[0m             \u001b[0;32mraise\u001b[0m \u001b[0mUsageError\u001b[0m\u001b[0;34m(\u001b[0m\u001b[0;34m'Missing module name.'\u001b[0m\u001b[0;34m)\u001b[0m\u001b[0;34m\u001b[0m\u001b[0m\n\u001b[0;32m---> 67\u001b[0;31m         \u001b[0mself\u001b[0m\u001b[0;34m.\u001b[0m\u001b[0mshell\u001b[0m\u001b[0;34m.\u001b[0m\u001b[0mextension_manager\u001b[0m\u001b[0;34m.\u001b[0m\u001b[0mreload_extension\u001b[0m\u001b[0;34m(\u001b[0m\u001b[0mmodule_str\u001b[0m\u001b[0;34m)\u001b[0m\u001b[0;34m\u001b[0m\u001b[0m\n\u001b[0m",
      "\u001b[0;32m/home/ubuntu/miniconda3/envs/py34/lib/python3.4/site-packages/IPython/core/extensions.py\u001b[0m in \u001b[0;36mreload_extension\u001b[0;34m(self, module_str)\u001b[0m\n\u001b[1;32m    126\u001b[0m                 \u001b[0mself\u001b[0m\u001b[0;34m.\u001b[0m\u001b[0mloaded\u001b[0m\u001b[0;34m.\u001b[0m\u001b[0madd\u001b[0m\u001b[0;34m(\u001b[0m\u001b[0mmodule_str\u001b[0m\u001b[0;34m)\u001b[0m\u001b[0;34m\u001b[0m\u001b[0m\n\u001b[1;32m    127\u001b[0m         \u001b[0;32melse\u001b[0m\u001b[0;34m:\u001b[0m\u001b[0;34m\u001b[0m\u001b[0m\n\u001b[0;32m--> 128\u001b[0;31m             \u001b[0mself\u001b[0m\u001b[0;34m.\u001b[0m\u001b[0mload_extension\u001b[0m\u001b[0;34m(\u001b[0m\u001b[0mmodule_str\u001b[0m\u001b[0;34m)\u001b[0m\u001b[0;34m\u001b[0m\u001b[0m\n\u001b[0m\u001b[1;32m    129\u001b[0m \u001b[0;34m\u001b[0m\u001b[0m\n\u001b[1;32m    130\u001b[0m     \u001b[0;32mdef\u001b[0m \u001b[0m_call_load_ipython_extension\u001b[0m\u001b[0;34m(\u001b[0m\u001b[0mself\u001b[0m\u001b[0;34m,\u001b[0m \u001b[0mmod\u001b[0m\u001b[0;34m)\u001b[0m\u001b[0;34m:\u001b[0m\u001b[0;34m\u001b[0m\u001b[0m\n",
      "\u001b[0;32m/home/ubuntu/miniconda3/envs/py34/lib/python3.4/site-packages/IPython/core/extensions.py\u001b[0m in \u001b[0;36mload_extension\u001b[0;34m(self, module_str)\u001b[0m\n\u001b[1;32m     81\u001b[0m             \u001b[0;32mif\u001b[0m \u001b[0mmodule_str\u001b[0m \u001b[0;32mnot\u001b[0m \u001b[0;32min\u001b[0m \u001b[0msys\u001b[0m\u001b[0;34m.\u001b[0m\u001b[0mmodules\u001b[0m\u001b[0;34m:\u001b[0m\u001b[0;34m\u001b[0m\u001b[0m\n\u001b[1;32m     82\u001b[0m                 \u001b[0;32mwith\u001b[0m \u001b[0mprepended_to_syspath\u001b[0m\u001b[0;34m(\u001b[0m\u001b[0mself\u001b[0m\u001b[0;34m.\u001b[0m\u001b[0mipython_extension_dir\u001b[0m\u001b[0;34m)\u001b[0m\u001b[0;34m:\u001b[0m\u001b[0;34m\u001b[0m\u001b[0m\n\u001b[0;32m---> 83\u001b[0;31m                     \u001b[0m__import__\u001b[0m\u001b[0;34m(\u001b[0m\u001b[0mmodule_str\u001b[0m\u001b[0;34m)\u001b[0m\u001b[0;34m\u001b[0m\u001b[0m\n\u001b[0m\u001b[1;32m     84\u001b[0m             \u001b[0mmod\u001b[0m \u001b[0;34m=\u001b[0m \u001b[0msys\u001b[0m\u001b[0;34m.\u001b[0m\u001b[0mmodules\u001b[0m\u001b[0;34m[\u001b[0m\u001b[0mmodule_str\u001b[0m\u001b[0;34m]\u001b[0m\u001b[0;34m\u001b[0m\u001b[0m\n\u001b[1;32m     85\u001b[0m             \u001b[0;32mif\u001b[0m \u001b[0mself\u001b[0m\u001b[0;34m.\u001b[0m\u001b[0m_call_load_ipython_extension\u001b[0m\u001b[0;34m(\u001b[0m\u001b[0mmod\u001b[0m\u001b[0;34m)\u001b[0m\u001b[0;34m:\u001b[0m\u001b[0;34m\u001b[0m\u001b[0m\n",
      "\u001b[0;31mImportError\u001b[0m: No module named 'load_style'"
     ]
    }
   ],
   "source": [
    "%reload_ext load_style\n",
    "%load_style talk.css"
   ]
  },
  {
   "cell_type": "code",
   "execution_count": 3,
   "metadata": {
    "collapsed": false
   },
   "outputs": [
    {
     "data": {
      "text/plain": [
       "'2017-02-10T03:31:26.366578'"
      ]
     },
     "execution_count": 3,
     "metadata": {},
     "output_type": "execute_result"
    }
   ],
   "source": [
    "## รหัสประจำตัวนักศึกษา : 57113079-8\n",
    "## ชื่อนักศึกษา : นายวสิทธิศักดิ์ สุขารมณ์\n",
    "##\n",
    "## คลิก Run cell นี้เพียงครั้งเดียว\n",
    "##\n",
    "##\n",
    "import datetime\n",
    "datetime.datetime.now().isoformat()"
   ]
  },
  {
   "cell_type": "markdown",
   "metadata": {},
   "source": [
    "## Question 1 ( @2 pt x 2 = 4 pts )\n",
    "\n",
    "### Q1.a \n",
    "จงเขียนคำสั่ง เพื่อพิมพ์ค่าตัวเลขที่ index ที่ 4 จาก list `mycoins` ต่อไปนี้ "
   ]
  },
  {
   "cell_type": "code",
   "execution_count": 32,
   "metadata": {
    "collapsed": true
   },
   "outputs": [],
   "source": [
    "## ไม่แก้ไขข้อมูลใน cell นี้\n",
    "\n",
    "mycoins = [12, 4, 10, 1, 6, 8]"
   ]
  },
  {
   "cell_type": "code",
   "execution_count": 34,
   "metadata": {
    "collapsed": false
   },
   "outputs": [
    {
     "name": "stdout",
     "output_type": "stream",
     "text": [
      "6\n"
     ]
    }
   ],
   "source": [
    "## ANSWER Q1.a\n",
    "##\n",
    "##\n",
    "print(mycoins[4]);"
   ]
  },
  {
   "cell_type": "markdown",
   "metadata": {},
   "source": [
    "### Q1.b \n",
    "จงเขียนคำสั่ง เพื่อพิมพ์ตัวเลขที่มีค่ามากกว่า 5 จาก **list** ในข้อ (1.a)"
   ]
  },
  {
   "cell_type": "code",
   "execution_count": 33,
   "metadata": {
    "collapsed": false
   },
   "outputs": [
    {
     "name": "stdout",
     "output_type": "stream",
     "text": [
      "12\n",
      "10\n",
      "6\n",
      "8\n"
     ]
    }
   ],
   "source": [
    "for x in range(0,6): \n",
    "    if mycoins[x] > 5:\n",
    "        print(mycoins[x]);\n"
   ]
  },
  {
   "cell_type": "code",
   "execution_count": null,
   "metadata": {
    "collapsed": true
   },
   "outputs": [],
   "source": []
  },
  {
   "cell_type": "markdown",
   "metadata": {},
   "source": [
    "## Question 2 ( @3 pts x 4 = 12 pts )\n",
    "\n",
    "### Q2.a \n",
    "จงสร้าง **list** เพื่อเก็บข้อมูลตัวเลขคู่ 100 - 200  โดยใข้ `range`"
   ]
  },
  {
   "cell_type": "code",
   "execution_count": 72,
   "metadata": {
    "collapsed": false
   },
   "outputs": [
    {
     "name": "stdout",
     "output_type": "stream",
     "text": [
      "[100, 102, 104, 106, 108, 110, 112, 114, 116, 118, 120, 122, 124, 126, 128, 130, 132, 134, 136, 138, 140, 142, 144, 146, 148, 150, 152, 154, 156, 158, 160, 162, 164, 166, 168, 170, 172, 174, 176, 178, 180, 182, 184, 186, 188, 190, 192, 194, 196, 198, 200]\n"
     ]
    }
   ],
   "source": [
    "## ANSWER Q2.a\n",
    "mylist=list(range(100,202,2))  \n",
    "print (mylist)"
   ]
  },
  {
   "cell_type": "code",
   "execution_count": null,
   "metadata": {
    "collapsed": true
   },
   "outputs": [],
   "source": []
  },
  {
   "cell_type": "markdown",
   "metadata": {},
   "source": [
    "### Q2.b \n",
    "จงสร้าง **list** เพื่อเก็บ**ตัวเลขสุ่ม** ในช่วง 19-99 จำนวน 8 ตัวเลข โดยใข้ฟังก์ชั่น `randint` จากไลบรารี `random`"
   ]
  },
  {
   "cell_type": "code",
   "execution_count": 34,
   "metadata": {
    "collapsed": false
   },
   "outputs": [
    {
     "name": "stdout",
     "output_type": "stream",
     "text": [
      "[58, 51, 20, 1, 11, 25, 87, 44] "
     ]
    }
   ],
   "source": [
    "## ANSWER Q2.b\n",
    "##\n",
    "##\n",
    "from random import randint\n",
    "list2=[]\n",
    "for i in range(0,8):\n",
    "    x=randint(0,99)\n",
    "    list2.append(x)\n",
    "print(list2,end=\" \")"
   ]
  },
  {
   "cell_type": "markdown",
   "metadata": {},
   "source": [
    "### Q2.c \n",
    "จงเขียน `def` ชื่อ `sum_of_square` สำหรับหาผลรวมของเลขกำลังสองของตัวเลขใน **list** ที่เป็น argument  \n",
    "\n",
    "เช่น เมื่อเรียกใช้ `sum_of_square([1,2,3,4,5,6,7,8])` จะได้ผลลัพธ์เป็น $1^2  + 2^2 + 3^2 +  ...  + 6^2 + 7^2 + 8^2 $ = 204.0 "
   ]
  },
  {
   "cell_type": "code",
   "execution_count": 69,
   "metadata": {
    "collapsed": false
   },
   "outputs": [
    {
     "data": {
      "text/plain": [
       "204.0"
      ]
     },
     "execution_count": 69,
     "metadata": {},
     "output_type": "execute_result"
    }
   ],
   "source": [
    "## ANSWER Q2.c\n",
    "##\n",
    "##\n",
    "from math import pow\n",
    "def sum_of_squares(number_list):\n",
    "    m=0\n",
    "    for x in number_list:\n",
    "        m = m+pow(x,2)\n",
    "    return m\n",
    "sum_of_squares([1,2,3,4,5,6,7,8])\n"
   ]
  },
  {
   "cell_type": "code",
   "execution_count": null,
   "metadata": {
    "collapsed": true
   },
   "outputs": [],
   "source": []
  },
  {
   "cell_type": "markdown",
   "metadata": {},
   "source": [
    "### Q2.d \n",
    "จงหา**ค่าเฉลี่ย** ของตัวเลขใน **list** ต่อไปนี้ แล้วเก็บไว้ที่ตัวแปรชื่อ `avg` โดยใข้ฟังก์ชั่น `sum`, `len` \n",
    "\n",
    "```\n",
    "myTest = [200, 275, 278, 242, 235, 383]\n",
    "```"
   ]
  },
  {
   "cell_type": "code",
   "execution_count": 71,
   "metadata": {
    "collapsed": false
   },
   "outputs": [
    {
     "name": "stdout",
     "output_type": "stream",
     "text": [
      "268.8333333333333\n"
     ]
    }
   ],
   "source": [
    "## ANSWER Q2.d\n",
    "##\n",
    "##\n",
    "myTest = [200, 275, 278, 242, 235, 383]\n",
    "def avg_(num):\n",
    "    print (sum(num)/len(num))\n",
    "    \n",
    "avg_(myTest)\n"
   ]
  },
  {
   "cell_type": "code",
   "execution_count": null,
   "metadata": {
    "collapsed": false
   },
   "outputs": [],
   "source": []
  },
  {
   "cell_type": "markdown",
   "metadata": {},
   "source": [
    "## Question 3 ( @6 pts x 2 = 12 pts )\n",
    "\n",
    "### Q3.a \n",
    "กำหนดให้ **dict**  `๋JP_COINS` เก็บค่าเงินของเหรียญญี่ปุ่น (เงินเยน ¥) 6 ชนิด (ใช้ใน Q3.b)\n",
    "\n",
    "จงหาจำนวนเหรียญใน list `piggy` ซึ่งเป็นกระปุกเงินเก็บเหรียญ โดยผลลัพธ์เก็บค่าไว้ที่ตัวแปร `count` "
   ]
  },
  {
   "cell_type": "code",
   "execution_count": 74,
   "metadata": {
    "collapsed": false
   },
   "outputs": [],
   "source": [
    "## ไม่แก้ไขข้อมูลใน cell นี้\n",
    "\n",
    "JP_COINS = { \"1Y\": 1, \"5Y\": 5, \"10Y\": 10, \"50Y\": 50, \"100Y\": 100, \"500Y\": 500 }\n",
    "\n",
    "## piggy keeps the number of Japanese ¥ coins \n",
    "piggy = { \"500Y\":2, \"1Y\":8, \"100Y\":2, \"10Y\":24, \"50Y\":3 }\n"
   ]
  },
  {
   "cell_type": "code",
   "execution_count": 76,
   "metadata": {
    "collapsed": false
   },
   "outputs": [
    {
     "name": "stdout",
     "output_type": "stream",
     "text": [
      "39\n"
     ]
    }
   ],
   "source": [
    "## ANSWER Q3.a\n",
    "## หาจำนวนเหรียญใน piggy \n",
    "##\n",
    "count = 0\n",
    "for i in piggy:\n",
    "    count = count+piggy[i]\n",
    "print (count)\n",
    "\n"
   ]
  },
  {
   "cell_type": "markdown",
   "metadata": {
    "collapsed": true
   },
   "source": [
    "### Q3.b\n",
    "จงหามูลค่าของเงินทั้งหมดใน list `piggy` (หน่วย: เยน)"
   ]
  },
  {
   "cell_type": "code",
   "execution_count": 77,
   "metadata": {
    "collapsed": false
   },
   "outputs": [
    {
     "name": "stdout",
     "output_type": "stream",
     "text": [
      "1598.0\n"
     ]
    }
   ],
   "source": [
    "## ANSWER Q3.b\n",
    "##\n",
    "##\n",
    "total = 0.\n",
    "for i in piggy:\n",
    "   total =total + JP_COINS[i]*piggy[i]\n",
    "\n",
    "print (total)"
   ]
  },
  {
   "cell_type": "code",
   "execution_count": null,
   "metadata": {
    "collapsed": true
   },
   "outputs": [],
   "source": []
  },
  {
   "cell_type": "markdown",
   "metadata": {},
   "source": [
    "## Question 4 ( @6 pts x 2 = 12 pts )\n",
    "\n",
    "### Q4.a \n",
    "จาก class `Coin` ที่กำหนดให้ จงสร้างเหรียญ เก็บไว้ใน list ชื่อ `my_coins` จำนวน 40 เหรียญของเงินเยน โดยใช้ฟังก์ชัน `randint` ของโมดูล `random` "
   ]
  },
  {
   "cell_type": "code",
   "execution_count": 78,
   "metadata": {
    "collapsed": true
   },
   "outputs": [],
   "source": [
    "## ไม่แก้ไขข้อมูลใน cell นี้\n",
    "\n",
    "class Coin(object):\n",
    "    \n",
    "    def __init__(self, value):\n",
    "        \"\"\" สร้างเหรียญ 1 เหรียญ ซึ่งเก็บค่าเงินไว้ด้วยตัวแปร __value \"\"\"\n",
    "        self.__value = value\n",
    "        \n",
    "    @property\n",
    "    def value(self):\n",
    "        \"\"\" return ค่าเงิน \"\"\"\n",
    "        return self.__value\n",
    "        \n",
    "    def __str__(self):\n",
    "        \"\"\" return ข้อความ str, พร้อมกับค่าเงิน \"\"\"\n",
    "        return ( \"Coin value: {}\".format(self.__value) )\n",
    "        "
   ]
  },
  {
   "cell_type": "code",
   "execution_count": 79,
   "metadata": {
    "collapsed": false
   },
   "outputs": [
    {
     "name": "stdout",
     "output_type": "stream",
     "text": [
      "Help on class Coin in module __main__:\n",
      "\n",
      "class Coin(builtins.object)\n",
      " |  Methods defined here:\n",
      " |  \n",
      " |  __init__(self, value)\n",
      " |      สร้างเหรียญ 1 เหรียญ ซึ่งเก็บค่าเงินไว้ด้วยตัวแปร __value\n",
      " |  \n",
      " |  __str__(self)\n",
      " |      return ข้อความ str, พร้อมกับค่าเงิน\n",
      " |  \n",
      " |  ----------------------------------------------------------------------\n",
      " |  Data descriptors defined here:\n",
      " |  \n",
      " |  __dict__\n",
      " |      dictionary for instance variables (if defined)\n",
      " |  \n",
      " |  __weakref__\n",
      " |      list of weak references to the object (if defined)\n",
      " |  \n",
      " |  value\n",
      " |      return ค่าเงิน\n",
      "\n"
     ]
    }
   ],
   "source": [
    "help(Coin)"
   ]
  },
  {
   "cell_type": "code",
   "execution_count": 80,
   "metadata": {
    "collapsed": false
   },
   "outputs": [
    {
     "data": {
      "text/plain": [
       "[<__main__.Coin at 0x7f2db013d278>,\n",
       " <__main__.Coin at 0x7f2db013d710>,\n",
       " <__main__.Coin at 0x7f2db013d6a0>]"
      ]
     },
     "execution_count": 80,
     "metadata": {},
     "output_type": "execute_result"
    }
   ],
   "source": [
    "## ตัวอย่างการใช้ class Coin\n",
    "##\n",
    "c1 = Coin(1)    # เหรียญ 1 เยน\n",
    "c2 = Coin(50)   # เหรียญ 50 เยน\n",
    "c3 = Coin(100)  # เหรียญ 100 เยน\n",
    "\n",
    "mycoin_list = [c1,c2,c3]\n",
    "mycoin_list"
   ]
  },
  {
   "cell_type": "code",
   "execution_count": 83,
   "metadata": {
    "collapsed": false
   },
   "outputs": [
    {
     "data": {
      "text/plain": [
       "100"
      ]
     },
     "execution_count": 83,
     "metadata": {},
     "output_type": "execute_result"
    }
   ],
   "source": [
    "# ตัวอย่างการใช้ @property value ของ class Coin\n",
    "c3.value"
   ]
  },
  {
   "cell_type": "code",
   "execution_count": 150,
   "metadata": {
    "collapsed": false
   },
   "outputs": [
    {
     "name": "stdout",
     "output_type": "stream",
     "text": [
      "[[5]]\n",
      "[[5], [10]]\n",
      "[[5], [10], [500]]\n",
      "[[5], [10], [500], [5]]\n",
      "[[5], [10], [500], [5], [1]]\n",
      "[[5], [10], [500], [5], [1], [1]]\n",
      "[[5], [10], [500], [5], [1], [1], [1]]\n",
      "[[5], [10], [500], [5], [1], [1], [1], [10]]\n",
      "[[5], [10], [500], [5], [1], [1], [1], [10], [10]]\n",
      "[[5], [10], [500], [5], [1], [1], [1], [10], [10], [5]]\n",
      "[[5], [10], [500], [5], [1], [1], [1], [10], [10], [5], [10]]\n",
      "[[5], [10], [500], [5], [1], [1], [1], [10], [10], [5], [10], [500]]\n",
      "[[5], [10], [500], [5], [1], [1], [1], [10], [10], [5], [10], [500], [500]]\n",
      "[[5], [10], [500], [5], [1], [1], [1], [10], [10], [5], [10], [500], [500], [50]]\n",
      "[[5], [10], [500], [5], [1], [1], [1], [10], [10], [5], [10], [500], [500], [50], [50]]\n",
      "[[5], [10], [500], [5], [1], [1], [1], [10], [10], [5], [10], [500], [500], [50], [50], [100]]\n",
      "[[5], [10], [500], [5], [1], [1], [1], [10], [10], [5], [10], [500], [500], [50], [50], [100], [100]]\n",
      "[[5], [10], [500], [5], [1], [1], [1], [10], [10], [5], [10], [500], [500], [50], [50], [100], [100], [10]]\n",
      "[[5], [10], [500], [5], [1], [1], [1], [10], [10], [5], [10], [500], [500], [50], [50], [100], [100], [10], [1]]\n",
      "[[5], [10], [500], [5], [1], [1], [1], [10], [10], [5], [10], [500], [500], [50], [50], [100], [100], [10], [1], [50]]\n",
      "[[5], [10], [500], [5], [1], [1], [1], [10], [10], [5], [10], [500], [500], [50], [50], [100], [100], [10], [1], [50], [5]]\n",
      "[[5], [10], [500], [5], [1], [1], [1], [10], [10], [5], [10], [500], [500], [50], [50], [100], [100], [10], [1], [50], [5], [50]]\n",
      "[[5], [10], [500], [5], [1], [1], [1], [10], [10], [5], [10], [500], [500], [50], [50], [100], [100], [10], [1], [50], [5], [50], [5]]\n",
      "[[5], [10], [500], [5], [1], [1], [1], [10], [10], [5], [10], [500], [500], [50], [50], [100], [100], [10], [1], [50], [5], [50], [5], [10]]\n",
      "[[5], [10], [500], [5], [1], [1], [1], [10], [10], [5], [10], [500], [500], [50], [50], [100], [100], [10], [1], [50], [5], [50], [5], [10], [10]]\n",
      "[[5], [10], [500], [5], [1], [1], [1], [10], [10], [5], [10], [500], [500], [50], [50], [100], [100], [10], [1], [50], [5], [50], [5], [10], [10], [5]]\n",
      "[[5], [10], [500], [5], [1], [1], [1], [10], [10], [5], [10], [500], [500], [50], [50], [100], [100], [10], [1], [50], [5], [50], [5], [10], [10], [5], [100]]\n",
      "[[5], [10], [500], [5], [1], [1], [1], [10], [10], [5], [10], [500], [500], [50], [50], [100], [100], [10], [1], [50], [5], [50], [5], [10], [10], [5], [100], [5]]\n",
      "[[5], [10], [500], [5], [1], [1], [1], [10], [10], [5], [10], [500], [500], [50], [50], [100], [100], [10], [1], [50], [5], [50], [5], [10], [10], [5], [100], [5], [500]]\n",
      "[[5], [10], [500], [5], [1], [1], [1], [10], [10], [5], [10], [500], [500], [50], [50], [100], [100], [10], [1], [50], [5], [50], [5], [10], [10], [5], [100], [5], [500], [5]]\n",
      "[[5], [10], [500], [5], [1], [1], [1], [10], [10], [5], [10], [500], [500], [50], [50], [100], [100], [10], [1], [50], [5], [50], [5], [10], [10], [5], [100], [5], [500], [5], [1]]\n",
      "[[5], [10], [500], [5], [1], [1], [1], [10], [10], [5], [10], [500], [500], [50], [50], [100], [100], [10], [1], [50], [5], [50], [5], [10], [10], [5], [100], [5], [500], [5], [1], [50]]\n",
      "[[5], [10], [500], [5], [1], [1], [1], [10], [10], [5], [10], [500], [500], [50], [50], [100], [100], [10], [1], [50], [5], [50], [5], [10], [10], [5], [100], [5], [500], [5], [1], [50], [1]]\n",
      "[[5], [10], [500], [5], [1], [1], [1], [10], [10], [5], [10], [500], [500], [50], [50], [100], [100], [10], [1], [50], [5], [50], [5], [10], [10], [5], [100], [5], [500], [5], [1], [50], [1], [10]]\n",
      "[[5], [10], [500], [5], [1], [1], [1], [10], [10], [5], [10], [500], [500], [50], [50], [100], [100], [10], [1], [50], [5], [50], [5], [10], [10], [5], [100], [5], [500], [5], [1], [50], [1], [10], [5]]\n",
      "[[5], [10], [500], [5], [1], [1], [1], [10], [10], [5], [10], [500], [500], [50], [50], [100], [100], [10], [1], [50], [5], [50], [5], [10], [10], [5], [100], [5], [500], [5], [1], [50], [1], [10], [5], [1]]\n",
      "[[5], [10], [500], [5], [1], [1], [1], [10], [10], [5], [10], [500], [500], [50], [50], [100], [100], [10], [1], [50], [5], [50], [5], [10], [10], [5], [100], [5], [500], [5], [1], [50], [1], [10], [5], [1], [500]]\n",
      "[[5], [10], [500], [5], [1], [1], [1], [10], [10], [5], [10], [500], [500], [50], [50], [100], [100], [10], [1], [50], [5], [50], [5], [10], [10], [5], [100], [5], [500], [5], [1], [50], [1], [10], [5], [1], [500], [5]]\n",
      "[[5], [10], [500], [5], [1], [1], [1], [10], [10], [5], [10], [500], [500], [50], [50], [100], [100], [10], [1], [50], [5], [50], [5], [10], [10], [5], [100], [5], [500], [5], [1], [50], [1], [10], [5], [1], [500], [5], [10]]\n",
      "[[5], [10], [500], [5], [1], [1], [1], [10], [10], [5], [10], [500], [500], [50], [50], [100], [100], [10], [1], [50], [5], [50], [5], [10], [10], [5], [100], [5], [500], [5], [1], [50], [1], [10], [5], [1], [500], [5], [10], [1]]\n"
     ]
    },
    {
     "ename": "AttributeError",
     "evalue": "'list' object has no attribute 'value'",
     "output_type": "error",
     "traceback": [
      "\u001b[0;31m---------------------------------------------------------------------------\u001b[0m",
      "\u001b[0;31mAttributeError\u001b[0m                            Traceback (most recent call last)",
      "\u001b[0;32m<ipython-input-150-95203b85dca4>\u001b[0m in \u001b[0;36m<module>\u001b[0;34m()\u001b[0m\n\u001b[1;32m     19\u001b[0m \u001b[0;31m# Test, printing the total Yen value of mycoins\u001b[0m\u001b[0;34m\u001b[0m\u001b[0;34m\u001b[0m\u001b[0m\n\u001b[1;32m     20\u001b[0m \u001b[0mprint\u001b[0m\u001b[0;34m\u001b[0m\u001b[0m\n\u001b[0;32m---> 21\u001b[0;31m \u001b[0msum\u001b[0m\u001b[0;34m(\u001b[0m \u001b[0;34m[\u001b[0m\u001b[0mc\u001b[0m\u001b[0;34m.\u001b[0m\u001b[0mvalue\u001b[0m \u001b[0;32mfor\u001b[0m \u001b[0mc\u001b[0m \u001b[0;32min\u001b[0m \u001b[0mmycoins\u001b[0m\u001b[0;34m]\u001b[0m \u001b[0;34m)\u001b[0m\u001b[0;34m\u001b[0m\u001b[0m\n\u001b[0m",
      "\u001b[0;32m<ipython-input-150-95203b85dca4>\u001b[0m in \u001b[0;36m<listcomp>\u001b[0;34m(.0)\u001b[0m\n\u001b[1;32m     19\u001b[0m \u001b[0;31m# Test, printing the total Yen value of mycoins\u001b[0m\u001b[0;34m\u001b[0m\u001b[0;34m\u001b[0m\u001b[0m\n\u001b[1;32m     20\u001b[0m \u001b[0mprint\u001b[0m\u001b[0;34m\u001b[0m\u001b[0m\n\u001b[0;32m---> 21\u001b[0;31m \u001b[0msum\u001b[0m\u001b[0;34m(\u001b[0m \u001b[0;34m[\u001b[0m\u001b[0mc\u001b[0m\u001b[0;34m.\u001b[0m\u001b[0mvalue\u001b[0m \u001b[0;32mfor\u001b[0m \u001b[0mc\u001b[0m \u001b[0;32min\u001b[0m \u001b[0mmycoins\u001b[0m\u001b[0;34m]\u001b[0m \u001b[0;34m)\u001b[0m\u001b[0;34m\u001b[0m\u001b[0m\n\u001b[0m",
      "\u001b[0;31mAttributeError\u001b[0m: 'list' object has no attribute 'value'"
     ]
    }
   ],
   "source": [
    "## ANSWER Q4.a\n",
    "##\n",
    "## สร้างเหรียญ เก็บไว้ใน list ชื่อ `my_coins` จำนวน 40 เหรียญเงินเยน \n",
    "## โดยใช้ฟังก์ชัน randint ของโมดูล random \n",
    "##\n",
    "\n",
    "from random import randint\n",
    "import random\n",
    "coin_values = [1, 5, 10, 50, 100, 500]  # the values of Japanese coins in a list\n",
    "\n",
    "mycoins = []\n",
    "##-------------  add code here\n",
    "##for i in range(0,40):       \n",
    "#    mycoins.append(random.sample(coin_values,1))\n",
    "    \n",
    "#   print (mycoins)   \n",
    "\n",
    "    \n",
    "# Test, printing the total Yen value of mycoins \n",
    "print\n",
    "sum( [c.value for c in mycoins] )"
   ]
  },
  {
   "cell_type": "code",
   "execution_count": null,
   "metadata": {
    "collapsed": true
   },
   "outputs": [],
   "source": []
  },
  {
   "cell_type": "markdown",
   "metadata": {},
   "source": [
    "### Q4.b \n",
    "จงปรับปรุุง def `printCoins` เพื่อพิมพ์จำนวนเหรียญ และมูลค่าเงินของเหรียญทั้งหมดที่เก็บไว้ใน list `coin_list` ซึ่งเป็น argument ของฟังก์ชัน `"
   ]
  },
  {
   "cell_type": "code",
   "execution_count": 230,
   "metadata": {
    "collapsed": false
   },
   "outputs": [
    {
     "name": "stdout",
     "output_type": "stream",
     "text": [
      "------- Coins --------\n",
      "Count :  40\n",
      "Value :  0.00 Yens\n"
     ]
    }
   ],
   "source": [
    "## ANSWER Q4.b\n",
    "##\n",
    "##\n",
    "def printCoins( coin_list ):\n",
    "    total_value = 0\n",
    "    count = 0\n",
    "\n",
    "    for x in coin_list:\n",
    "        count = len(coin_list)\n",
    "       ##  total_value += coin_list[x]\n",
    "      ##  total_value += coin_list\n",
    "    \n",
    "    \n",
    "    print(\"------- Coins --------\")\n",
    "    print(\"Count :  {}\".format( count))\n",
    "    print(\"Value :  {:.2f} Yens\".format(total_value))\n",
    "   \n",
    "\n",
    "#--- Test the def printCoins ---\n",
    "printCoins( mycoins )\n"
   ]
  },
  {
   "cell_type": "code",
   "execution_count": 215,
   "metadata": {
    "collapsed": false
   },
   "outputs": [
    {
     "name": "stdout",
     "output_type": "stream",
     "text": [
      "------- Coins --------\n",
      "Count :  16\n",
      "Value :  0.00 Yens\n"
     ]
    }
   ],
   "source": [
    "## Test def printCoins again by Run this cell \n",
    "## The function should print out the following :\n",
    "## ------- Coins --------\n",
    "## Count :  16\n",
    "## Value :  2108.00 Yens\n",
    "##\n",
    "coin_kinds = [ Coin(v) for v in coin_values ] \n",
    "mycoins2 = []\n",
    "for i in [1, 5, 0, 0, 2, 5, 1, 5, 3, 1, 1, 2, 1, 5, 0, 2]:  \n",
    "    mycoins2.insert(0, coin_kinds[i])\n",
    "    \n",
    "#--- Test the def printCoins ---\n",
    "printCoins( mycoins2 )"
   ]
  },
  {
   "cell_type": "code",
   "execution_count": null,
   "metadata": {
    "collapsed": true
   },
   "outputs": [],
   "source": []
  },
  {
   "cell_type": "code",
   "execution_count": null,
   "metadata": {
    "collapsed": false
   },
   "outputs": [],
   "source": []
  },
  {
   "cell_type": "code",
   "execution_count": 216,
   "metadata": {
    "collapsed": false
   },
   "outputs": [
    {
     "data": {
      "text/plain": [
       "'2017-02-23T19:15:14.135902'"
      ]
     },
     "execution_count": 216,
     "metadata": {},
     "output_type": "execute_result"
    }
   ],
   "source": [
    "import datetime\n",
    "datetime.datetime.now().isoformat()\n",
    "##\n",
    "## รหัสประจำตัวนักศึกษา : 57113079-8\n",
    "##  wasittisak sookarom\n",
    "## แล้วคลิก Run cell ครั้งเดียว เมื่อส่งงาน"
   ]
  },
  {
   "cell_type": "markdown",
   "metadata": {},
   "source": [
    "## end of IPynb"
   ]
  }
 ],
 "metadata": {
  "kernelspec": {
   "display_name": "Python 3",
   "language": "python",
   "name": "python3"
  },
  "language_info": {
   "codemirror_mode": {
    "name": "ipython",
    "version": 3
   },
   "file_extension": ".py",
   "mimetype": "text/x-python",
   "name": "python",
   "nbconvert_exporter": "python",
   "pygments_lexer": "ipython3",
   "version": "3.4.5"
  }
 },
 "nbformat": 4,
 "nbformat_minor": 0
}
